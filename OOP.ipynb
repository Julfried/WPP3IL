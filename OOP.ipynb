{
 "cells": [
  {
   "cell_type": "code",
   "execution_count": 9,
   "metadata": {},
   "outputs": [],
   "source": [
    "class GameEntity:\n",
    "    def __init__(self, name, health): # constructor\n",
    "        self.name = name\n",
    "        self.health = health\n",
    "\n",
    "    def display_info(self):\n",
    "        print(f\"{self.name} has health {self.health}\")"
   ]
  },
  {
   "cell_type": "code",
   "execution_count": 10,
   "metadata": {},
   "outputs": [],
   "source": [
    "hans = GameEntity(\"Hans\", 24)\n",
    "iris = GameEntity(\"Iris\", 19)"
   ]
  },
  {
   "cell_type": "code",
   "execution_count": 14,
   "metadata": {},
   "outputs": [
    {
     "name": "stdout",
     "output_type": "stream",
     "text": [
      "<__main__.GameEntity object at 0x00000217FB8E1160>\n",
      "<__main__.GameEntity object at 0x00000217FB8E1160>\n"
     ]
    }
   ],
   "source": [
    "print(hans.__repr__())\n",
    "print(hans.__str__())"
   ]
  }
 ],
 "metadata": {
  "kernelspec": {
   "display_name": "wpp3il",
   "language": "python",
   "name": "python3"
  },
  "language_info": {
   "codemirror_mode": {
    "name": "ipython",
    "version": 3
   },
   "file_extension": ".py",
   "mimetype": "text/x-python",
   "name": "python",
   "nbconvert_exporter": "python",
   "pygments_lexer": "ipython3",
   "version": "3.12.8"
  }
 },
 "nbformat": 4,
 "nbformat_minor": 2
}
